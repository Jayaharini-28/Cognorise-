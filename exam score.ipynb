{
 "cells": [
  {
   "cell_type": "code",
   "execution_count": 1,
   "id": "9ebeec20-e1ae-47da-9284-be5781db70b3",
   "metadata": {},
   "outputs": [],
   "source": [
    "import pandas as pd\n",
    "from sklearn.preprocessing import LabelEncoder, OneHotEncoder\n",
    "from sklearn.compose import ColumnTransformer\n",
    "from sklearn.preprocessing import StandardScaler\n",
    "from sklearn.model_selection import train_test_split\n",
    "from sklearn.ensemble import RandomForestRegressor\n",
    "from sklearn.metrics import mean_absolute_error\n",
    "import matplotlib.pyplot as plt\n",
    "import seaborn as sns"
   ]
  },
  {
   "cell_type": "code",
   "execution_count": 2,
   "id": "58a793c9-469c-43d6-accc-defb4f1b233b",
   "metadata": {},
   "outputs": [
    {
     "name": "stdout",
     "output_type": "stream",
     "text": [
      "Train Data:\n",
      "     Roll no preparation   gender parental level of education         lunch  \\\n",
      "0  EXA000001         none    male                some college      standard   \n",
      "1  EXA000002         none    male             master's degree  free/reduced   \n",
      "2  EXA000003         none    male             master's degree  free/reduced   \n",
      "3  EXA000004         none  female                some college  free/reduced   \n",
      "4  EXA000005         none  female                 high school      standard   \n",
      "\n",
      "     Section  practical score  viva score  exam score  \n",
      "0  Section A               70          73          70  \n",
      "1  Section C               55          54          52  \n",
      "2  Section E               56          46          43  \n",
      "3  Section C               35          47          41  \n",
      "4  Section C               87          92          81  \n",
      "Roll no                        object\n",
      "preparation                    object\n",
      "gender                         object\n",
      "parental level of education    object\n",
      "lunch                          object\n",
      "Section                        object\n",
      "practical score                 int64\n",
      "viva score                      int64\n",
      "exam score                      int64\n",
      "dtype: object\n",
      "Test Data:\n",
      "    Roll no preparation   gender parental level of education     lunch  \\\n",
      "0  EXA32000         none    male          associate's degree  standard   \n",
      "1  EXA32001    completed    male            some high school  standard   \n",
      "2  EXA32002         none    male            some high school  standard   \n",
      "3  EXA32003    completed    male            some high school  standard   \n",
      "4  EXA32004         none  female           bachelor's degree  standard   \n",
      "\n",
      "     Section  practical score  viva score  \n",
      "0  Section C               74          89  \n",
      "1  Section E               66          75  \n",
      "2  Section C               52          55  \n",
      "3  Section D               69          85  \n",
      "4  Section E               46          62  \n",
      "Roll no                        object\n",
      "preparation                    object\n",
      "gender                         object\n",
      "parental level of education    object\n",
      "lunch                          object\n",
      "Section                        object\n",
      "practical score                 int64\n",
      "viva score                      int64\n",
      "dtype: object\n"
     ]
    }
   ],
   "source": [
    "train_data = pd.read_csv('train1.csv')\n",
    "test_data = pd.read_csv('test1.csv')\n",
    "\n",
    "# Rename columns to ensure consistency\n",
    "train_data.rename(columns={\n",
    "    'preparation': 'test preparation',\n",
    "    'parental level of education': 'parental level of education',\n",
    "    'gender': 'gender',\n",
    "    'lunch': 'lunch',\n",
    "    'Section': 'Section'\n",
    "}, inplace=True)\n",
    "\n",
    "test_data.rename(columns={\n",
    "    'preparation': 'test preparation',\n",
    "    'parental level of education': 'parental level of education',\n",
    "    'gender': 'gender',\n",
    "    'lunch': 'lunch',\n",
    "    'Section': 'Section'\n",
    "}, inplace=True)\n",
    "print(\"Train Data:\")\n",
    "print(train_data.head())\n",
    "print(train_data.dtypes)\n",
    "\n",
    "print(\"Test Data:\")\n",
    "print(test_data.head())\n",
    "print(test_data.dtypes)\n"
   ]
  },
  {
   "cell_type": "code",
   "execution_count": 3,
   "id": "4ec3f11d-5675-41db-be77-ff1b0f93f99c",
   "metadata": {},
   "outputs": [],
   "source": [
    "categorical_columns_label = ['parental level of education']  # Columns for Label Encoding\n",
    "categorical_columns_onehot = ['gender', 'Section', 'lunch', 'preparation']  # Columns for One-Hot Encoding\n",
    "\n",
    "# Label Encoding for ordinal columns\n",
    "label_encoders = {}\n",
    "for column in categorical_columns_label:\n",
    "    le = LabelEncoder()\n",
    "    train_data[column] = le.fit_transform(train_data[column].astype(str))\n",
    "    test_data[column] = le.transform(test_data[column].astype(str))\n",
    "    label_encoders[column] = le\n",
    "\n",
    "# One-Hot Encoding for nominal columns\n",
    "onehot_encoder = ColumnTransformer(\n",
    "    transformers=[\n",
    "        ('cat', OneHotEncoder(), categorical_columns_onehot)\n",
    "    ],\n",
    "    remainder='passthrough'\n",
    ")\n"
   ]
  },
  {
   "cell_type": "code",
   "execution_count": 5,
   "id": "c4bfadab-20bd-4457-a954-20acc03962f4",
   "metadata": {},
   "outputs": [
    {
     "name": "stdout",
     "output_type": "stream",
     "text": [
      "'test preparation' column not found in train_data\n",
      "'test preparation' column not found in test_data\n",
      "Index(['preparation ', 'gender', 'parental level of education', 'lunch',\n",
      "       'Section', 'practical score', 'viva score'],\n",
      "      dtype='object')\n"
     ]
    }
   ],
   "source": [
    "# Check if 'test preparation' column is in train_data and test_data\n",
    "if 'preparation' in train_data.columns:\n",
    "    X_train_features = train_data.drop(['Roll no', 'exam score'], axis=1)\n",
    "else:\n",
    "    # Handle case when 'test preparation' is not in train_data\n",
    "    print(\"'test preparation' column not found in train_data\")\n",
    "    X_train_features = train_data.drop(['Roll no', 'exam score'], axis=1, errors='ignore')  # Adjust if needed\n",
    "\n",
    "if 'preparation' in test_data.columns:\n",
    "    X_test_features = test_data.drop(['Roll no'], axis=1)\n",
    "else:\n",
    "   \n",
    "    print(\"'test preparation' column not found in test_data\")\n",
    "    X_test_features = test_data.drop(['Roll no'], axis=1, errors='ignore')  # Adjust if needed\n",
    "\n",
    "# Print the columns of X_train_features to verify\n",
    "print(X_train_features.columns)\n"
   ]
  },
  {
   "cell_type": "code",
   "execution_count": 6,
   "id": "4771e8ef-9267-498f-99f1-ad13b261cf36",
   "metadata": {},
   "outputs": [
    {
     "name": "stdout",
     "output_type": "stream",
     "text": [
      "X_train_features Columns:\n",
      "Index(['preparation ', 'gender', 'parental level of education', 'lunch',\n",
      "       'Section', 'practical score', 'viva score'],\n",
      "      dtype='object')\n",
      "X_test_features Columns:\n",
      "Index(['preparation ', 'gender', 'parental level of education', 'lunch',\n",
      "       'Section', 'practical score', 'viva score'],\n",
      "      dtype='object')\n"
     ]
    }
   ],
   "source": [
    "print(\"X_train_features Columns:\")\n",
    "print(X_train_features.columns)\n",
    "print(\"X_test_features Columns:\")\n",
    "print(X_test_features.columns)"
   ]
  },
  {
   "cell_type": "code",
   "execution_count": 8,
   "id": "3b3d6dfe-f966-4b7e-b513-67a294bddd6c",
   "metadata": {},
   "outputs": [
    {
     "name": "stdout",
     "output_type": "stream",
     "text": [
      "Train Data After Label Encoding:\n",
      "     Roll no  preparation   gender  parental level of education  lunch  \\\n",
      "0  EXA000001             1       1                            4      1   \n",
      "1  EXA000002             1       1                            3      0   \n",
      "2  EXA000003             1       1                            3      0   \n",
      "3  EXA000004             1       0                            4      0   \n",
      "4  EXA000005             1       0                            2      1   \n",
      "\n",
      "   Section  practical score  viva score  exam score  \n",
      "0        0               70          73          70  \n",
      "1        2               55          54          52  \n",
      "2        4               56          46          43  \n",
      "3        2               35          47          41  \n",
      "4        2               87          92          81  \n",
      "Test Data After Label Encoding:\n",
      "    Roll no  preparation   gender  parental level of education  lunch  \\\n",
      "0  EXA32000             1       1                            0      1   \n",
      "1  EXA32001             0       1                            5      1   \n",
      "2  EXA32002             1       1                            5      1   \n",
      "3  EXA32003             0       1                            5      1   \n",
      "4  EXA32004             1       0                            1      1   \n",
      "\n",
      "   Section  practical score  viva score  \n",
      "0        2               74          89  \n",
      "1        4               66          75  \n",
      "2        2               52          55  \n",
      "3        3               69          85  \n",
      "4        4               46          62  \n"
     ]
    }
   ],
   "source": [
    "categorical_columns_label = ['parental level of education']  # Columns for Label Encoding\n",
    "categorical_columns_onehot = ['gender', 'Section', 'lunch','preparation ']  # Columns for One-Hot Encoding\n",
    "\n",
    "# Label Encoding for ordinal columns\n",
    "label_encoders = {}\n",
    "for column in categorical_columns_label:\n",
    "    le = LabelEncoder()\n",
    "    train_data[column] = le.fit_transform(train_data[column].astype(str))\n",
    "    test_data[column] = le.transform(test_data[column].astype(str))\n",
    "    label_encoders[column] = le\n",
    "label_encoders1 = {}\n",
    "for column in categorical_columns_onehot:\n",
    "    le1 = LabelEncoder()\n",
    "    train_data[column] = le.fit_transform(train_data[column].astype(str))\n",
    "    test_data[column] = le.transform(test_data[column].astype(str))\n",
    "    label_encoders1[column] = le1\n",
    "\n",
    "# Print the first few rows after Label Encoding\n",
    "print(\"Train Data After Label Encoding:\")\n",
    "print(train_data.head())\n",
    "print(\"Test Data After Label Encoding:\")\n",
    "print(test_data.head())"
   ]
  },
  {
   "cell_type": "code",
   "execution_count": 10,
   "id": "620a21ab-88a5-44e7-91d4-9f801ab0f5b5",
   "metadata": {},
   "outputs": [],
   "source": [
    "# Strip any extra whitespace from column names\n",
    "train_data.columns = train_data.columns.str.strip()\n",
    "test_data.columns = test_data.columns.str.strip()\n"
   ]
  },
  {
   "cell_type": "code",
   "execution_count": 11,
   "id": "092e2f5a-4836-479d-b6ee-ca5ca5f6f48e",
   "metadata": {},
   "outputs": [],
   "source": [
    "columns_to_drop_train = ['Roll no', 'exam score']\n",
    "columns_to_drop_test = ['Roll no']\n",
    "\n",
    "# Only drop columns that exist\n",
    "columns_to_drop_train = [col for col in columns_to_drop_train if col in train_data.columns]\n",
    "columns_to_drop_test = [col for col in columns_to_drop_test if col in test_data.columns]\n",
    "\n",
    "X_train_features = train_data.drop(columns=columns_to_drop_train, axis=1)\n",
    "X_test_features = test_data.drop(columns=columns_to_drop_test, axis=1)"
   ]
  },
  {
   "cell_type": "code",
   "execution_count": 12,
   "id": "83d14ad8-8dcc-4b30-8053-0cd70483770b",
   "metadata": {},
   "outputs": [
    {
     "name": "stdout",
     "output_type": "stream",
     "text": [
      "X_train_features Columns:\n",
      "Index(['preparation', 'gender', 'parental level of education', 'lunch',\n",
      "       'Section', 'practical score', 'viva score'],\n",
      "      dtype='object')\n",
      "X_test_features Columns:\n",
      "Index(['preparation', 'gender', 'parental level of education', 'lunch',\n",
      "       'Section', 'practical score', 'viva score'],\n",
      "      dtype='object')\n"
     ]
    }
   ],
   "source": [
    "print(\"X_train_features Columns:\")\n",
    "print(X_train_features.columns)\n",
    "print(\"X_test_features Columns:\")\n",
    "print(X_test_features.columns)"
   ]
  },
  {
   "cell_type": "code",
   "execution_count": 22,
   "id": "8f30ad54-ce9d-4d5c-b405-4a99a63ea59a",
   "metadata": {},
   "outputs": [
    {
     "name": "stderr",
     "output_type": "stream",
     "text": [
      "C:\\Users\\admin\\anaconda3\\Lib\\site-packages\\sklearn\\preprocessing\\_encoders.py:868: FutureWarning: `sparse` was renamed to `sparse_output` in version 1.2 and will be removed in 1.4. `sparse_output` is ignored unless you leave `sparse` to its default value.\n",
      "  warnings.warn(\n"
     ]
    }
   ],
   "source": [
    "onehot_encoder = OneHotEncoder(drop='first', sparse=False)\n",
    "# Apply One-Hot Encoding\n",
    "X_train_encoded = onehot_encoder.fit_transform(X_train_features)\n",
    "X_test_encoded = onehot_encoder.transform(X_test_features)\n",
    "y_train = train_data['exam score']"
   ]
  },
  {
   "cell_type": "code",
   "execution_count": 26,
   "id": "f5a9dc34-c452-416d-91b6-533b4a633bb2",
   "metadata": {},
   "outputs": [
    {
     "name": "stdout",
     "output_type": "stream",
     "text": [
      "X_train_encoded shape: (31999, 160)\n",
      "X_test_encoded shape: (100, 160)\n",
      "y_train shape: (25599,)\n"
     ]
    }
   ],
   "source": [
    "print(\"X_train_encoded shape:\", X_train_encoded.shape)\n",
    "print(\"X_test_encoded shape:\", X_test_encoded.shape)\n",
    "print(\"y_train shape:\", y_train.shape)\n"
   ]
  },
  {
   "cell_type": "code",
   "execution_count": 28,
   "id": "760025b4-7612-441c-9349-565c7ede13b1",
   "metadata": {},
   "outputs": [],
   "source": [
    "# Extract 'exam score' column\n",
    "if 'exam score' in train_data.columns:\n",
    "    y_train = train_data['exam score'].values\n",
    "else:\n",
    "    raise ValueError(\"'exam score' column is not present in train_data\")\n",
    "\n",
    "# Ensure y_train matches the number of rows in X_train_encoded\n",
    "if len(y_train) != X_train_encoded.shape[0]:\n",
    "    raise ValueError(\"Mismatch between number of rows in X_train_encoded and y_train\")\n"
   ]
  },
  {
   "cell_type": "code",
   "execution_count": 33,
   "id": "2ada8282-3104-43b2-8b65-0a2e55f77a41",
   "metadata": {},
   "outputs": [
    {
     "name": "stdout",
     "output_type": "stream",
     "text": [
      "X_train_encoded shape: (31999, 160)\n",
      "y_train shape: (31999,)\n"
     ]
    },
    {
     "name": "stderr",
     "output_type": "stream",
     "text": [
      "C:\\Users\\admin\\anaconda3\\Lib\\site-packages\\sklearn\\preprocessing\\_encoders.py:868: FutureWarning: `sparse` was renamed to `sparse_output` in version 1.2 and will be removed in 1.4. `sparse_output` is ignored unless you leave `sparse` to its default value.\n",
      "  warnings.warn(\n"
     ]
    }
   ],
   "source": [
    "from sklearn.preprocessing import OneHotEncoder, StandardScaler\n",
    "import pandas as pd\n",
    "\n",
    "# Sample DataFrames (replace with actual data)\n",
    "# train_data = pd.DataFrame({...})\n",
    "# test_data = pd.DataFrame({...})\n",
    "\n",
    "# Define columns to drop\n",
    "columns_to_drop_train = ['Roll no', 'exam score']\n",
    "columns_to_drop_test = ['Roll no']\n",
    "\n",
    "# Filter columns to drop\n",
    "columns_to_drop_train = [col for col in columns_to_drop_train if col in train_data.columns]\n",
    "columns_to_drop_test = [col for col in columns_to_drop_test if col in test_data.columns]\n",
    "\n",
    "# Drop columns\n",
    "X_train_features = train_data.drop(columns=columns_to_drop_train, axis=1)\n",
    "X_test_features = test_data.drop(columns=columns_to_drop_test, axis=1)\n",
    "\n",
    "# Initialize OneHotEncoder\n",
    "onehot_encoder = OneHotEncoder(drop='first', sparse=False)\n",
    "\n",
    "# Apply One-Hot Encoding\n",
    "X_train_encoded = onehot_encoder.fit_transform(X_train_features)\n",
    "X_test_encoded = onehot_encoder.transform(X_test_features)\n",
    "\n",
    "# Extract target variable\n",
    "if 'exam score' in train_data.columns:\n",
    "    y_train = train_data['exam score'].values\n",
    "else:\n",
    "    raise ValueError(\"'exam score' column is not present in train_data\")\n",
    "\n",
    "# Standardize features\n",
    "scaler = StandardScaler()\n",
    "X_train_encoded = scaler.fit_transform(X_train_encoded)\n",
    "X_test_encoded = scaler.transform(X_test_encoded)\n",
    "\n",
    "# Check consistency\n",
    "print(\"X_train_encoded shape:\", X_train_encoded.shape)\n",
    "print(\"y_train shape:\", y_train.shape)\n"
   ]
  },
  {
   "cell_type": "code",
   "execution_count": 50,
   "id": "b2c67b82-78f9-46a3-a6d3-50a618a35965",
   "metadata": {},
   "outputs": [
    {
     "name": "stdout",
     "output_type": "stream",
     "text": [
      "X_train_encoded shape: (31999, 160)\n",
      "y_train shape: 31999\n",
      "X_train_split shape: (25599, 160)\n",
      "X_val_split shape: (6400, 160)\n",
      "y_train_split shape: (25599,)\n",
      "y_val_split shape: (6400,)\n"
     ]
    }
   ],
   "source": [
    "\n",
    "\n",
    "# Standardize features\n",
    "scaler = StandardScaler()\n",
    "X_train_encoded = scaler.fit_transform(X_train_encoded)\n",
    "X_test_encoded = scaler.transform(X_test_encoded)\n",
    "\n",
    "# Check shapes before splitting\n",
    "print(\"X_train_encoded shape:\", X_train_encoded.shape)\n",
    "print(\"y_train shape:\", len(y_train))\n",
    "\n",
    "# Ensure shapes are consistent\n",
    "if X_train_encoded.shape[0] != len(y_train):\n",
    "    raise ValueError(\"Mismatch between number of rows in X_train_encoded and y_train\")\n",
    "\n",
    "# Split the training data into training and validation sets\n",
    "X_train_split, X_val_split, y_train_split, y_val_split = train_test_split(X_train_encoded, y_train, test_size=0.2, random_state=42)\n",
    "\n",
    "# Verify shapes after split\n",
    "print(\"X_train_split shape:\", X_train_split.shape)\n",
    "print(\"X_val_split shape:\", X_val_split.shape)\n",
    "print(\"y_train_split shape:\", y_train_split.shape)\n",
    "print(\"y_val_split shape:\", y_val_split.shape)\n",
    "\n",
    "# Train a RandomForestRegressor model\n",
    "model = RandomForestRegressor(n_estimators=100, random_state=42)\n",
    "model.fit(X_train_split, y_train_split)\n",
    "\n",
    "# Predict on the validation set\n",
    "y_val_pred = model.predict(X_val_split)\n"
   ]
  },
  {
   "cell_type": "code",
   "execution_count": 51,
   "id": "b82675a3-7081-44c8-af8c-07775768b6d4",
   "metadata": {},
   "outputs": [
    {
     "name": "stdout",
     "output_type": "stream",
     "text": [
      "Mean Absolute Error on validation set: 11.96\n"
     ]
    }
   ],
   "source": [
    "\n",
    "mae = mean_absolute_error(y_val, y_val_pred)\n",
    "print(f'Mean Absolute Error on validation set: {mae:.2f}')\n"
   ]
  },
  {
   "cell_type": "code",
   "execution_count": null,
   "id": "ed29138b-12f2-441d-92e1-2f36c898d51e",
   "metadata": {},
   "outputs": [],
   "source": []
  }
 ],
 "metadata": {
  "kernelspec": {
   "display_name": "Python 3 (ipykernel)",
   "language": "python",
   "name": "python3"
  },
  "language_info": {
   "codemirror_mode": {
    "name": "ipython",
    "version": 3
   },
   "file_extension": ".py",
   "mimetype": "text/x-python",
   "name": "python",
   "nbconvert_exporter": "python",
   "pygments_lexer": "ipython3",
   "version": "3.11.7"
  }
 },
 "nbformat": 4,
 "nbformat_minor": 5
}
